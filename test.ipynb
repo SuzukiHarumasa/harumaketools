{
 "cells": [
  {
   "cell_type": "code",
   "execution_count": 1,
   "metadata": {},
   "outputs": [],
   "source": [
    "import pandas as pd\n",
    "import re\n",
    "from bs4 import BeautifulSoup\n",
    "from googletrans import Translator"
   ]
  },
  {
   "cell_type": "code",
   "execution_count": 2,
   "metadata": {},
   "outputs": [],
   "source": [
    "text = '・0円スクールは無料でプログラミングを学べるプログラミングスクール！・実務を元に作られたカリキュラムで、体系的にプログラミングを学べる！・オンライン学習や、土日に学習ができないことがデメリット…・0円スクールは無料でプログラミングを学んで、現場の即戦力になりたい方におすすめ！・必要なのは「やる気」と「転職に対しての強い意志」だけ！'"
   ]
  },
  {
   "cell_type": "code",
   "execution_count": 3,
   "metadata": {},
   "outputs": [],
   "source": [
    "lists = []\n",
    "for li in text.split('・')[1:]:\n",
    "    li = '<li>'+li+'</li>'\n",
    "    lists.append(li)\n"
   ]
  },
  {
   "cell_type": "code",
   "execution_count": 4,
   "metadata": {},
   "outputs": [],
   "source": [
    "strlist = ''.join(lists)\n"
   ]
  },
  {
   "cell_type": "code",
   "execution_count": 5,
   "metadata": {},
   "outputs": [
    {
     "data": {
      "text/plain": [
       "'<ul><li>0円スクールは無料でプログラミングを学べるプログラミングスクール！</li><li>実務を元に作られたカリキュラムで、体系的にプログラミングを学べる！</li><li>オンライン学習や、土日に学習ができないことがデメリット…</li><li>0円スクールは無料でプログラミングを学んで、現場の即戦力になりたい方におすすめ！</li><li>必要なのは「やる気」と「転職に対しての強い意志」だけ！</li></ul>'"
      ]
     },
     "execution_count": 5,
     "metadata": {},
     "output_type": "execute_result"
    }
   ],
   "source": [
    "strlist = '<ul>'+strlist+'</ul>'\n",
    "strlist"
   ]
  },
  {
   "cell_type": "code",
   "execution_count": 48,
   "metadata": {},
   "outputs": [],
   "source": [
    "\n",
    "def translate_ja(txt):\n",
    "    tr = Translator()\n",
    "    txt = ''.join(filter(str.isalnum, txt))\n",
    "    txt = tr.translate(txt, src=\"ja\", dest=\"en\").text.lower().replace(' ', '_')\n",
    "    txt = txt.replace(\"'\",\"\").replace('?',\"\")\n",
    "    return txt"
   ]
  },
  {
   "cell_type": "code",
   "execution_count": 49,
   "metadata": {},
   "outputs": [],
   "source": [
    "list_html = '<li>実績を比較！経験豊富なM&amp;A仲介会社を選ぶ</li><li>アドバイザリー型？仲介型？</li><li>着手金が要らない「完全成功報酬型」を選ぶ</li><li>法務・財務の専門家がいるM&amp;A仲介会社を選ぶ</li><li>地域特化？業界特化？強みを比較してM&amp;A仲介会社を選ぶ</li>'"
   ]
  },
  {
   "cell_type": "code",
   "execution_count": 50,
   "metadata": {},
   "outputs": [],
   "source": [
    "\n",
    "def trans_anker(list_html):\n",
    "    soup = BeautifulSoup(list_html, 'html.parser')\n",
    "    lists = soup.find_all('li')\n",
    "    txt_list = []\n",
    "    for lis in lists:\n",
    "        txt = translate_ja(lis.text) \n",
    "        \n",
    "        txt_list.append(txt)\n",
    "\n",
    "    txt_list = '\\n'.join(txt_list)\n",
    "        \n",
    "    return txt_list"
   ]
  },
  {
   "cell_type": "code",
   "execution_count": 51,
   "metadata": {},
   "outputs": [
    {
     "ename": "AttributeError",
     "evalue": "'NoneType' object has no attribute 'group'",
     "output_type": "error",
     "traceback": [
      "\u001b[0;31m---------------------------------------------------------------------------\u001b[0m",
      "\u001b[0;31mAttributeError\u001b[0m                            Traceback (most recent call last)",
      "Cell \u001b[0;32mIn[51], line 1\u001b[0m\n\u001b[0;32m----> 1\u001b[0m txt_list \u001b[39m=\u001b[39m trans_anker(list_html)\n\u001b[1;32m      2\u001b[0m txt_list\n",
      "Cell \u001b[0;32mIn[50], line 6\u001b[0m, in \u001b[0;36mtrans_anker\u001b[0;34m(list_html)\u001b[0m\n\u001b[1;32m      4\u001b[0m txt_list \u001b[39m=\u001b[39m []\n\u001b[1;32m      5\u001b[0m \u001b[39mfor\u001b[39;00m lis \u001b[39min\u001b[39;00m lists:\n\u001b[0;32m----> 6\u001b[0m     txt \u001b[39m=\u001b[39m translate_ja(lis\u001b[39m.\u001b[39;49mtext) \n\u001b[1;32m      8\u001b[0m     txt_list\u001b[39m.\u001b[39mappend(txt)\n\u001b[1;32m     10\u001b[0m txt_list \u001b[39m=\u001b[39m \u001b[39m'\u001b[39m\u001b[39m\\n\u001b[39;00m\u001b[39m'\u001b[39m\u001b[39m.\u001b[39mjoin(txt_list)\n",
      "Cell \u001b[0;32mIn[48], line 4\u001b[0m, in \u001b[0;36mtranslate_ja\u001b[0;34m(txt)\u001b[0m\n\u001b[1;32m      2\u001b[0m tr \u001b[39m=\u001b[39m Translator()\n\u001b[1;32m      3\u001b[0m txt \u001b[39m=\u001b[39m \u001b[39m'\u001b[39m\u001b[39m'\u001b[39m\u001b[39m.\u001b[39mjoin(\u001b[39mfilter\u001b[39m(\u001b[39mstr\u001b[39m\u001b[39m.\u001b[39misalnum, txt))\n\u001b[0;32m----> 4\u001b[0m txt \u001b[39m=\u001b[39m tr\u001b[39m.\u001b[39;49mtranslate(txt, src\u001b[39m=\u001b[39;49m\u001b[39m\"\u001b[39;49m\u001b[39mja\u001b[39;49m\u001b[39m\"\u001b[39;49m, dest\u001b[39m=\u001b[39;49m\u001b[39m\"\u001b[39;49m\u001b[39men\u001b[39;49m\u001b[39m\"\u001b[39;49m)\u001b[39m.\u001b[39mtext\u001b[39m.\u001b[39mlower()\u001b[39m.\u001b[39mreplace(\u001b[39m'\u001b[39m\u001b[39m \u001b[39m\u001b[39m'\u001b[39m, \u001b[39m'\u001b[39m\u001b[39m_\u001b[39m\u001b[39m'\u001b[39m)\n\u001b[1;32m      5\u001b[0m txt \u001b[39m=\u001b[39m txt\u001b[39m.\u001b[39mreplace(\u001b[39m\"\u001b[39m\u001b[39m'\u001b[39m\u001b[39m\"\u001b[39m,\u001b[39m\"\u001b[39m\u001b[39m\"\u001b[39m)\u001b[39m.\u001b[39mreplace(\u001b[39m'\u001b[39m\u001b[39m?\u001b[39m\u001b[39m'\u001b[39m,\u001b[39m\"\u001b[39m\u001b[39m\"\u001b[39m)\n\u001b[1;32m      6\u001b[0m \u001b[39mreturn\u001b[39;00m txt\n",
      "File \u001b[0;32m~/apps/WG-RPA/env/lib/python3.10/site-packages/googletrans/client.py:182\u001b[0m, in \u001b[0;36mTranslator.translate\u001b[0;34m(self, text, dest, src, **kwargs)\u001b[0m\n\u001b[1;32m    179\u001b[0m     \u001b[39mreturn\u001b[39;00m result\n\u001b[1;32m    181\u001b[0m origin \u001b[39m=\u001b[39m text\n\u001b[0;32m--> 182\u001b[0m data \u001b[39m=\u001b[39m \u001b[39mself\u001b[39;49m\u001b[39m.\u001b[39;49m_translate(text, dest, src, kwargs)\n\u001b[1;32m    184\u001b[0m \u001b[39m# this code will be updated when the format is changed.\u001b[39;00m\n\u001b[1;32m    185\u001b[0m translated \u001b[39m=\u001b[39m \u001b[39m'\u001b[39m\u001b[39m'\u001b[39m\u001b[39m.\u001b[39mjoin([d[\u001b[39m0\u001b[39m] \u001b[39mif\u001b[39;00m d[\u001b[39m0\u001b[39m] \u001b[39melse\u001b[39;00m \u001b[39m'\u001b[39m\u001b[39m'\u001b[39m \u001b[39mfor\u001b[39;00m d \u001b[39min\u001b[39;00m data[\u001b[39m0\u001b[39m]])\n",
      "File \u001b[0;32m~/apps/WG-RPA/env/lib/python3.10/site-packages/googletrans/client.py:78\u001b[0m, in \u001b[0;36mTranslator._translate\u001b[0;34m(self, text, dest, src, override)\u001b[0m\n\u001b[1;32m     77\u001b[0m \u001b[39mdef\u001b[39;00m \u001b[39m_translate\u001b[39m(\u001b[39mself\u001b[39m, text, dest, src, override):\n\u001b[0;32m---> 78\u001b[0m     token \u001b[39m=\u001b[39m \u001b[39mself\u001b[39;49m\u001b[39m.\u001b[39;49mtoken_acquirer\u001b[39m.\u001b[39;49mdo(text)\n\u001b[1;32m     79\u001b[0m     params \u001b[39m=\u001b[39m utils\u001b[39m.\u001b[39mbuild_params(query\u001b[39m=\u001b[39mtext, src\u001b[39m=\u001b[39msrc, dest\u001b[39m=\u001b[39mdest,\n\u001b[1;32m     80\u001b[0m                                 token\u001b[39m=\u001b[39mtoken, override\u001b[39m=\u001b[39moverride)\n\u001b[1;32m     82\u001b[0m     url \u001b[39m=\u001b[39m urls\u001b[39m.\u001b[39mTRANSLATE\u001b[39m.\u001b[39mformat(host\u001b[39m=\u001b[39m\u001b[39mself\u001b[39m\u001b[39m.\u001b[39m_pick_service_url())\n",
      "File \u001b[0;32m~/apps/WG-RPA/env/lib/python3.10/site-packages/googletrans/gtoken.py:194\u001b[0m, in \u001b[0;36mTokenAcquirer.do\u001b[0;34m(self, text)\u001b[0m\n\u001b[1;32m    193\u001b[0m \u001b[39mdef\u001b[39;00m \u001b[39mdo\u001b[39m(\u001b[39mself\u001b[39m, text):\n\u001b[0;32m--> 194\u001b[0m     \u001b[39mself\u001b[39;49m\u001b[39m.\u001b[39;49m_update()\n\u001b[1;32m    195\u001b[0m     tk \u001b[39m=\u001b[39m \u001b[39mself\u001b[39m\u001b[39m.\u001b[39macquire(text)\n\u001b[1;32m    196\u001b[0m     \u001b[39mreturn\u001b[39;00m tk\n",
      "File \u001b[0;32m~/apps/WG-RPA/env/lib/python3.10/site-packages/googletrans/gtoken.py:62\u001b[0m, in \u001b[0;36mTokenAcquirer._update\u001b[0;34m(self)\u001b[0m\n\u001b[1;32m     59\u001b[0m     \u001b[39mreturn\u001b[39;00m\n\u001b[1;32m     61\u001b[0m \u001b[39m# this will be the same as python code after stripping out a reserved word 'var'\u001b[39;00m\n\u001b[0;32m---> 62\u001b[0m code \u001b[39m=\u001b[39m \u001b[39mself\u001b[39;49m\u001b[39m.\u001b[39;49mRE_TKK\u001b[39m.\u001b[39;49msearch(r\u001b[39m.\u001b[39;49mtext)\u001b[39m.\u001b[39;49mgroup(\u001b[39m1\u001b[39m)\u001b[39m.\u001b[39mreplace(\u001b[39m'\u001b[39m\u001b[39mvar \u001b[39m\u001b[39m'\u001b[39m, \u001b[39m'\u001b[39m\u001b[39m'\u001b[39m)\n\u001b[1;32m     63\u001b[0m \u001b[39m# unescape special ascii characters such like a \\x3d(=)\u001b[39;00m\n\u001b[1;32m     64\u001b[0m code \u001b[39m=\u001b[39m code\u001b[39m.\u001b[39mencode()\u001b[39m.\u001b[39mdecode(\u001b[39m'\u001b[39m\u001b[39municode-escape\u001b[39m\u001b[39m'\u001b[39m)\n",
      "\u001b[0;31mAttributeError\u001b[0m: 'NoneType' object has no attribute 'group'"
     ]
    }
   ],
   "source": [
    "txt_list = trans_anker(list_html)\n",
    "txt_list"
   ]
  },
  {
   "cell_type": "code",
   "execution_count": 10,
   "metadata": {},
   "outputs": [],
   "source": [
    "list_html = \"<ul><li>未経験でも挫折しにくい</li><li>仲間ができる</li><li>効率よくWEBマーケティングを学べる</li><li>転職・案件獲得サポートを受けることができる</li></ul>\"\n"
   ]
  },
  {
   "cell_type": "code",
   "execution_count": 11,
   "metadata": {},
   "outputs": [],
   "source": [
    "def trans_anker(list_html):\n",
    "    soup = BeautifulSoup(list_html, 'html.parser')\n",
    "    lists = soup.find_all('li')\n",
    "    txt_list = []\n",
    "    for lis in lists:\n",
    "        txt = translate_ja(lis.text) \n",
    "        \n",
    "        txt_list.append(txt)\n",
    "\n",
    "    txt_list = '\\n'.join(txt_list)\n",
    "        \n",
    "    return txt_list"
   ]
  },
  {
   "cell_type": "code",
   "execution_count": 11,
   "metadata": {},
   "outputs": [],
   "source": [
    "# list_html = '<li>未経験でも挫折しにくい</li>'\n",
    "# li = '<li></li>'\n",
    "# soup = BeautifulSoup(list_html, 'html.parser')\n",
    "# soup_li = BeautifulSoup(li, 'html.parser')\n",
    "\n",
    "# # aタグを新規作成する\n",
    "# tag = soup.new_tag('a', href='#example.com/')\n",
    "# tag.string = soup.string  # タグのテキストを設定\n",
    "\n",
    "# soup_li.li.append(tag)\n",
    "\n",
    "# print(soup_li)\n",
    "\n"
   ]
  },
  {
   "cell_type": "code",
   "execution_count": 12,
   "metadata": {},
   "outputs": [],
   "source": [
    "def trans_anker_list(list_html):\n",
    "    \n",
    "    \n",
    "    soup = BeautifulSoup(list_html, 'html.parser')\n",
    "    \n",
    "    lists = soup.find_all('li')\n",
    "    txt_list = []\n",
    "    h3_list = []\n",
    "    for lis in lists:\n",
    "        txt = translate_ja(lis.text)\n",
    "        \n",
    "        #リスト作成\n",
    "        li = '<li></li>'\n",
    "        soup_li = BeautifulSoup(li, 'html.parser')\n",
    "        tag = soup.new_tag('a', href='#'+txt)\n",
    "        tag.string = lis.string\n",
    "        soup_li.li.append(tag)\n",
    "        txt_list.append(soup_li)\n",
    "        \n",
    "        #h3作成\n",
    "        h3 = ['<h3>','</h3>']\n",
    "        soup_h3 = BeautifulSoup(h3, 'html.parser')\n",
    "        tag_h3 = soup.new_tag('a', id=txt)\n",
    "        tag_h3.string = text\n",
    "        tag_h3 = str(tag_h3)\n",
    "        h3.insert(1,tag_h3)\n",
    "        \n",
    "        h3 = ''.join(h3)\n",
    "        soup_h3 = BeautifulSoup(h3, 'html.parser')\n",
    "        \n",
    "        h3_list.append(soup_h3)\n",
    "\n",
    "    txt_list = \"\".join(map(str, txt_list))\n",
    "    h3_list = \"\".join(map(str, h3_list))\n",
    "        \n",
    "    return txt_list,h3_list"
   ]
  },
  {
   "cell_type": "code",
   "execution_count": 58,
   "metadata": {},
   "outputs": [
    {
     "data": {
      "text/plain": [
       "<h3><a id=\"test\">Click Me!</a></h3>"
      ]
     },
     "execution_count": 58,
     "metadata": {},
     "output_type": "execute_result"
    }
   ],
   "source": [
    "# text,h3_list = trans_anker_list(list_html)\n",
    "\n",
    "# h3 = '<h3></h3>'\n",
    "# soup_h3 = BeautifulSoup(h3, 'html.parser')\n",
    "# # tag_h3 = soup_h3.new_tag('a', id=\"txt\")\n",
    "# print(soup_h3)\n",
    "# soup_h3.h3.string ='テスト'\n",
    "# print(soup_h3)\n",
    "from html import unescape\n",
    "\n",
    "html = '<h3></h3>'\n",
    "soup = BeautifulSoup(html, 'html.parser')\n",
    "\n",
    "# aタグを新規作成する\n",
    "tag = soup.new_tag('a', href='http://example.com/')\n",
    "tag.string = 'Click Me!'\n",
    "\n",
    "h3 = ['<h3>','</h3>']\n",
    "\n",
    "text = 'Click Me!'\n",
    "txt = 'test'\n",
    "tag_h3 = soup.new_tag('a', id=txt)\n",
    "tag_h3.string = text\n",
    "tag_h3 = str(tag_h3)\n",
    "h3.insert(1,tag_h3)\n",
    "h3\n",
    "\n",
    "\n",
    "soup"
   ]
  },
  {
   "cell_type": "code",
   "execution_count": 29,
   "metadata": {},
   "outputs": [
    {
     "name": "stdout",
     "output_type": "stream",
     "text": [
      "<li><a href=\"#can_you_respond_to_your_companys_work_form\">自社の勤務形態・雇用形態に対応できるか</a></li>\n",
      "<h3>自社の勤務形態・雇用形態に対応できるか<a id=\"can_you_respond_to_your_companys_work_form\"></a></h3>\n"
     ]
    }
   ],
   "source": [
    "print(text)\n",
    "print(h3_list)"
   ]
  },
  {
   "cell_type": "code",
   "execution_count": 23,
   "metadata": {},
   "outputs": [
    {
     "name": "stdout",
     "output_type": "stream",
     "text": [
      "<h3><a id=\"#テスト\">自社の勤務形態・雇用形態に対応できるか</a></h3>\n"
     ]
    }
   ],
   "source": [
    "h3 = '<h3></h3>'\n",
    "list_html = '<li>自社の勤務形態・雇用形態に対応できるか</li>'\n",
    "\n",
    "soup = BeautifulSoup(list_html, 'html.parser')\n",
    "soup_h3 = BeautifulSoup(h3, 'html.parser')\n",
    "text = 'テスト'\n",
    "tag = soup.new_tag('a', id='#'+text)\n",
    "\n",
    "soup_h3.h3.append(tag)\n",
    "soup_h3.a.string= soup.string\n",
    "\n",
    "\n",
    "print(soup_h3)"
   ]
  },
  {
   "cell_type": "code",
   "execution_count": null,
   "metadata": {},
   "outputs": [],
   "source": []
  }
 ],
 "metadata": {
  "kernelspec": {
   "display_name": "env",
   "language": "python",
   "name": "python3"
  },
  "language_info": {
   "codemirror_mode": {
    "name": "ipython",
    "version": 3
   },
   "file_extension": ".py",
   "mimetype": "text/x-python",
   "name": "python",
   "nbconvert_exporter": "python",
   "pygments_lexer": "ipython3",
   "version": "3.10.6"
  },
  "orig_nbformat": 4
 },
 "nbformat": 4,
 "nbformat_minor": 2
}
