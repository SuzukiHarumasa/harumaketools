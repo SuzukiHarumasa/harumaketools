{
 "cells": [
  {
   "cell_type": "code",
   "execution_count": 1,
   "metadata": {},
   "outputs": [],
   "source": [
    "import pandas as pd\n",
    "import re\n",
    "from bs4 import BeautifulSoup\n",
    "from googletrans import Translator"
   ]
  },
  {
   "cell_type": "code",
   "execution_count": 2,
   "metadata": {},
   "outputs": [],
   "source": [
    "text = '・0円スクールは無料でプログラミングを学べるプログラミングスクール！・実務を元に作られたカリキュラムで、体系的にプログラミングを学べる！・オンライン学習や、土日に学習ができないことがデメリット…・0円スクールは無料でプログラミングを学んで、現場の即戦力になりたい方におすすめ！・必要なのは「やる気」と「転職に対しての強い意志」だけ！'"
   ]
  },
  {
   "cell_type": "code",
   "execution_count": 3,
   "metadata": {},
   "outputs": [],
   "source": [
    "lists = []\n",
    "for li in text.split('・')[1:]:\n",
    "    li = '<li>'+li+'</li>'\n",
    "    lists.append(li)\n"
   ]
  },
  {
   "cell_type": "code",
   "execution_count": 4,
   "metadata": {},
   "outputs": [],
   "source": [
    "strlist = ''.join(lists)\n"
   ]
  },
  {
   "cell_type": "code",
   "execution_count": 5,
   "metadata": {},
   "outputs": [
    {
     "data": {
      "text/plain": [
       "'<ul><li>0円スクールは無料でプログラミングを学べるプログラミングスクール！</li><li>実務を元に作られたカリキュラムで、体系的にプログラミングを学べる！</li><li>オンライン学習や、土日に学習ができないことがデメリット…</li><li>0円スクールは無料でプログラミングを学んで、現場の即戦力になりたい方におすすめ！</li><li>必要なのは「やる気」と「転職に対しての強い意志」だけ！</li></ul>'"
      ]
     },
     "execution_count": 5,
     "metadata": {},
     "output_type": "execute_result"
    }
   ],
   "source": [
    "strlist = '<ul>'+strlist+'</ul>'\n",
    "strlist"
   ]
  },
  {
   "cell_type": "code",
   "execution_count": 14,
   "metadata": {},
   "outputs": [],
   "source": [
    "\n",
    "def translate_ja(txt):\n",
    "    tr = Translator()\n",
    "    txt = ''.join(filter(str.isalnum, txt))\n",
    "    txt = tr.translate(txt, src=\"ja\", dest=\"en\").text.lower().replace(' ', '_')\n",
    "    txt = txt.replace(\"'\",\"\").replace('?',\"\")\n",
    "    return txt"
   ]
  },
  {
   "cell_type": "code",
   "execution_count": 7,
   "metadata": {},
   "outputs": [],
   "source": [
    "list_html = '<li>実績を比較！経験豊富なM&amp;A仲介会社を選ぶ</li><li>アドバイザリー型？仲介型？</li><li>着手金が要らない「完全成功報酬型」を選ぶ</li><li>法務・財務の専門家がいるM&amp;A仲介会社を選ぶ</li><li>地域特化？業界特化？強みを比較してM&amp;A仲介会社を選ぶ</li>'"
   ]
  },
  {
   "cell_type": "code",
   "execution_count": 8,
   "metadata": {},
   "outputs": [],
   "source": [
    "\n",
    "def trans_anker(list_html):\n",
    "    soup = BeautifulSoup(list_html, 'html.parser')\n",
    "    lists = soup.find_all('li')\n",
    "    txt_list = []\n",
    "    for lis in lists:\n",
    "        txt = translate_ja(lis.text) \n",
    "        \n",
    "        txt_list.append(txt)\n",
    "\n",
    "    txt_list = '\\n'.join(txt_list)\n",
    "        \n",
    "    return txt_list"
   ]
  },
  {
   "cell_type": "code",
   "execution_count": 9,
   "metadata": {},
   "outputs": [
    {
     "data": {
      "text/plain": [
       "'choose_a_ma_brokerage_company_that_has_experienced_achievements\\nadvisory_type_brokerage_type\\nchoose_a_complete_success_fee_type_that_does_not_require_a_starting_fee\\nchoose_a_ma_brokerage_company_with_legal_financial_experts\\nchoose_ma_brokerage_company_by_comparing_the_regional_specialization_industry_specialized_strength'"
      ]
     },
     "execution_count": 9,
     "metadata": {},
     "output_type": "execute_result"
    }
   ],
   "source": [
    "txt_list = trans_anker(list_html)\n",
    "txt_list"
   ]
  },
  {
   "cell_type": "code",
   "execution_count": 93,
   "metadata": {},
   "outputs": [],
   "source": [
    "list_html = \"<ul><li>未経験でも挫折しにくい</li><li>仲間ができる</li><li>効率よくWEBマーケティングを学べる</li><li>転職・案件獲得サポートを受けることができる</li></ul>\"\n"
   ]
  },
  {
   "cell_type": "code",
   "execution_count": 10,
   "metadata": {},
   "outputs": [],
   "source": [
    "def trans_anker(list_html):\n",
    "    soup = BeautifulSoup(list_html, 'html.parser')\n",
    "    lists = soup.find_all('li')\n",
    "    txt_list = []\n",
    "    for lis in lists:\n",
    "        txt = translate_ja(lis.text) \n",
    "        \n",
    "        txt_list.append(txt)\n",
    "\n",
    "    txt_list = '\\n'.join(txt_list)\n",
    "        \n",
    "    return txt_list"
   ]
  },
  {
   "cell_type": "code",
   "execution_count": 11,
   "metadata": {},
   "outputs": [],
   "source": [
    "# list_html = '<li>未経験でも挫折しにくい</li>'\n",
    "# li = '<li></li>'\n",
    "# soup = BeautifulSoup(list_html, 'html.parser')\n",
    "# soup_li = BeautifulSoup(li, 'html.parser')\n",
    "\n",
    "# # aタグを新規作成する\n",
    "# tag = soup.new_tag('a', href='#example.com/')\n",
    "# tag.string = soup.string  # タグのテキストを設定\n",
    "\n",
    "# soup_li.li.append(tag)\n",
    "\n",
    "# print(soup_li)\n",
    "\n"
   ]
  },
  {
   "cell_type": "code",
   "execution_count": 27,
   "metadata": {},
   "outputs": [],
   "source": [
    "def trans_anker_list(list_html):\n",
    "    \n",
    "    \n",
    "    soup = BeautifulSoup(list_html, 'html.parser')\n",
    "    \n",
    "    lists = soup.find_all('li')\n",
    "    txt_list = []\n",
    "    h3_list = []\n",
    "    for lis in lists:\n",
    "        txt = translate_ja(lis.text)\n",
    "        \n",
    "        #リスト作成\n",
    "        li = '<li></li>'\n",
    "        soup_li = BeautifulSoup(li, 'html.parser')\n",
    "        tag = soup.new_tag('a', href='#'+txt)\n",
    "        tag.string = lis.string\n",
    "        soup_li.li.append(tag)\n",
    "        txt_list.append(soup_li)\n",
    "        \n",
    "        #h3作成\n",
    "        h3 = '<h3></h3>'\n",
    "        soup_h3 = BeautifulSoup(h3, 'html.parser')\n",
    "        tag_h3 = soup.new_tag('a', id=txt)\n",
    "        \n",
    "        soup_h3.h3.string= lis.string\n",
    "        soup_h3.h3.append(tag_h3)\n",
    "        \n",
    "        h3_list.append(soup_h3)\n",
    "\n",
    "    txt_list = \"\".join(map(str, txt_list))\n",
    "    h3_list = \"\".join(map(str, h3_list))\n",
    "        \n",
    "    return txt_list,h3_list"
   ]
  },
  {
   "cell_type": "code",
   "execution_count": 28,
   "metadata": {},
   "outputs": [],
   "source": [
    "text,h3_list = trans_anker_list(list_html)"
   ]
  },
  {
   "cell_type": "code",
   "execution_count": 29,
   "metadata": {},
   "outputs": [
    {
     "name": "stdout",
     "output_type": "stream",
     "text": [
      "<li><a href=\"#can_you_respond_to_your_companys_work_form\">自社の勤務形態・雇用形態に対応できるか</a></li>\n",
      "<h3>自社の勤務形態・雇用形態に対応できるか<a id=\"can_you_respond_to_your_companys_work_form\"></a></h3>\n"
     ]
    }
   ],
   "source": [
    "print(text)\n",
    "print(h3_list)"
   ]
  },
  {
   "cell_type": "code",
   "execution_count": 23,
   "metadata": {},
   "outputs": [
    {
     "name": "stdout",
     "output_type": "stream",
     "text": [
      "<h3><a id=\"#テスト\">自社の勤務形態・雇用形態に対応できるか</a></h3>\n"
     ]
    }
   ],
   "source": [
    "h3 = '<h3></h3>'\n",
    "list_html = '<li>自社の勤務形態・雇用形態に対応できるか</li>'\n",
    "\n",
    "soup = BeautifulSoup(list_html, 'html.parser')\n",
    "soup_h3 = BeautifulSoup(h3, 'html.parser')\n",
    "text = 'テスト'\n",
    "tag = soup.new_tag('a', id='#'+text)\n",
    "\n",
    "soup_h3.h3.append(tag)\n",
    "soup_h3.a.string= soup.string\n",
    "\n",
    "\n",
    "print(soup_h3)"
   ]
  },
  {
   "cell_type": "code",
   "execution_count": null,
   "metadata": {},
   "outputs": [],
   "source": []
  }
 ],
 "metadata": {
  "interpreter": {
   "hash": "d97d73e86a8bd4dca65682cd9c53b58801a2ca0bf12e9686f3e6c8ad7db6a898"
  },
  "kernelspec": {
   "display_name": "Python 3.8.12 ('fastapi')",
   "language": "python",
   "name": "python3"
  },
  "language_info": {
   "codemirror_mode": {
    "name": "ipython",
    "version": 3
   },
   "file_extension": ".py",
   "mimetype": "text/x-python",
   "name": "python",
   "nbconvert_exporter": "python",
   "pygments_lexer": "ipython3",
   "version": "3.8.13"
  },
  "orig_nbformat": 4
 },
 "nbformat": 4,
 "nbformat_minor": 2
}
